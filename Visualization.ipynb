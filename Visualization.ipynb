{
 "cells": [
  {
   "cell_type": "code",
   "execution_count": 1,
   "metadata": {},
   "outputs": [],
   "source": [
    "import pandas as pd\n",
    "import numpy as np\n",
    "import matplotlib.pyplot as plt\n",
    "import seaborn as sns\n",
    "%matplotlib inline\n",
    "\n",
    "df = pd.read_csv('final_df.csv')"
   ]
  },
  {
   "cell_type": "code",
   "execution_count": 2,
   "metadata": {},
   "outputs": [
    {
     "data": {
      "text/html": [
       "<div>\n",
       "<style scoped>\n",
       "    .dataframe tbody tr th:only-of-type {\n",
       "        vertical-align: middle;\n",
       "    }\n",
       "\n",
       "    .dataframe tbody tr th {\n",
       "        vertical-align: top;\n",
       "    }\n",
       "\n",
       "    .dataframe thead th {\n",
       "        text-align: right;\n",
       "    }\n",
       "</style>\n",
       "<table border=\"1\" class=\"dataframe\">\n",
       "  <thead>\n",
       "    <tr style=\"text-align: right;\">\n",
       "      <th></th>\n",
       "      <th>Unnamed: 0</th>\n",
       "      <th>release_date</th>\n",
       "      <th>movie</th>\n",
       "      <th>production_budget</th>\n",
       "      <th>domestic_gross</th>\n",
       "      <th>worldwide_gross</th>\n",
       "      <th>dom_roi</th>\n",
       "      <th>world_roi</th>\n",
       "      <th>release_month</th>\n",
       "      <th>release_day</th>\n",
       "      <th>release_year</th>\n",
       "      <th>season</th>\n",
       "      <th>imdblink</th>\n",
       "      <th>imdbcode</th>\n",
       "      <th>MPAA Rating</th>\n",
       "      <th>Runtime</th>\n",
       "      <th>Genre</th>\n",
       "      <th>Origin</th>\n",
       "      <th>IMDB Score</th>\n",
       "      <th>keywords</th>\n",
       "    </tr>\n",
       "  </thead>\n",
       "  <tbody>\n",
       "    <tr>\n",
       "      <th>0</th>\n",
       "      <td>0</td>\n",
       "      <td>May 20, 2011</td>\n",
       "      <td>Pirates of the Caribbean: On Stranger Tides</td>\n",
       "      <td>410600000.0</td>\n",
       "      <td>241063875.0</td>\n",
       "      <td>1.045664e+09</td>\n",
       "      <td>-0.412899</td>\n",
       "      <td>1.546673</td>\n",
       "      <td>May</td>\n",
       "      <td>20</td>\n",
       "      <td>2011</td>\n",
       "      <td>spring</td>\n",
       "      <td>/title/tt1298650/</td>\n",
       "      <td>tt1298650</td>\n",
       "      <td>PG-13</td>\n",
       "      <td>2h 16min</td>\n",
       "      <td>['Action', 'Adventure', 'Fantasy']</td>\n",
       "      <td>USA</td>\n",
       "      <td>6.6</td>\n",
       "      <td>['pirate', 'captain', 'blackbeard', 'soldier',...</td>\n",
       "    </tr>\n",
       "    <tr>\n",
       "      <th>1</th>\n",
       "      <td>1</td>\n",
       "      <td>Jun 7, 2019</td>\n",
       "      <td>Dark Phoenix</td>\n",
       "      <td>350000000.0</td>\n",
       "      <td>42762350.0</td>\n",
       "      <td>1.497624e+08</td>\n",
       "      <td>-0.877822</td>\n",
       "      <td>-0.572108</td>\n",
       "      <td>Jun</td>\n",
       "      <td>7</td>\n",
       "      <td>2019</td>\n",
       "      <td>summer</td>\n",
       "      <td>/title/tt6565702/</td>\n",
       "      <td>tt6565702</td>\n",
       "      <td>PG-13</td>\n",
       "      <td>1h 53min</td>\n",
       "      <td>['Action', 'Adventure', 'Sci-Fi']</td>\n",
       "      <td>USA</td>\n",
       "      <td>5.8</td>\n",
       "      <td>['1990s', 'year 1975', '1970s', 'year 1992', '...</td>\n",
       "    </tr>\n",
       "    <tr>\n",
       "      <th>2</th>\n",
       "      <td>2</td>\n",
       "      <td>May 1, 2015</td>\n",
       "      <td>Avengers: Age of Ultron</td>\n",
       "      <td>330600000.0</td>\n",
       "      <td>459005868.0</td>\n",
       "      <td>1.403014e+09</td>\n",
       "      <td>0.388403</td>\n",
       "      <td>3.243841</td>\n",
       "      <td>May</td>\n",
       "      <td>1</td>\n",
       "      <td>2015</td>\n",
       "      <td>spring</td>\n",
       "      <td>/title/tt2395427/</td>\n",
       "      <td>tt2395427</td>\n",
       "      <td>PG-13</td>\n",
       "      <td>2h 21min</td>\n",
       "      <td>['Action', 'Adventure', 'Sci-Fi']</td>\n",
       "      <td>USA</td>\n",
       "      <td>7.3</td>\n",
       "      <td>['superhero', 'marvel cinematic universe', 'ar...</td>\n",
       "    </tr>\n",
       "    <tr>\n",
       "      <th>3</th>\n",
       "      <td>3</td>\n",
       "      <td>Dec 15, 2017</td>\n",
       "      <td>Star Wars Ep. VIII: The Last Jedi</td>\n",
       "      <td>317000000.0</td>\n",
       "      <td>620181382.0</td>\n",
       "      <td>1.316722e+09</td>\n",
       "      <td>0.956408</td>\n",
       "      <td>3.153696</td>\n",
       "      <td>Dec</td>\n",
       "      <td>15</td>\n",
       "      <td>2017</td>\n",
       "      <td>winter</td>\n",
       "      <td>/title/tt2527336/</td>\n",
       "      <td>tt2527336</td>\n",
       "      <td>PG-13</td>\n",
       "      <td>2h 32min</td>\n",
       "      <td>['Action', 'Adventure', 'Fantasy']</td>\n",
       "      <td>USA</td>\n",
       "      <td>7.0</td>\n",
       "      <td>['wisecrack humor', 'one liner', 'sabotage', '...</td>\n",
       "    </tr>\n",
       "    <tr>\n",
       "      <th>4</th>\n",
       "      <td>4</td>\n",
       "      <td>Dec 18, 2015</td>\n",
       "      <td>Star Wars Ep. VII: The Force Awakens</td>\n",
       "      <td>306000000.0</td>\n",
       "      <td>936662225.0</td>\n",
       "      <td>2.053311e+09</td>\n",
       "      <td>2.060988</td>\n",
       "      <td>5.710167</td>\n",
       "      <td>Dec</td>\n",
       "      <td>18</td>\n",
       "      <td>2015</td>\n",
       "      <td>winter</td>\n",
       "      <td>/title/tt2488496/</td>\n",
       "      <td>tt2488496</td>\n",
       "      <td>PG-13</td>\n",
       "      <td>2h 18min</td>\n",
       "      <td>['Action', 'Adventure', 'Sci-Fi']</td>\n",
       "      <td>USA</td>\n",
       "      <td>7.9</td>\n",
       "      <td>['reboot', 'sanitation employee', 'remake', 'w...</td>\n",
       "    </tr>\n",
       "  </tbody>\n",
       "</table>\n",
       "</div>"
      ],
      "text/plain": [
       "   Unnamed: 0  release_date                                        movie  \\\n",
       "0           0  May 20, 2011  Pirates of the Caribbean: On Stranger Tides   \n",
       "1           1   Jun 7, 2019                                 Dark Phoenix   \n",
       "2           2   May 1, 2015                      Avengers: Age of Ultron   \n",
       "3           3  Dec 15, 2017            Star Wars Ep. VIII: The Last Jedi   \n",
       "4           4  Dec 18, 2015         Star Wars Ep. VII: The Force Awakens   \n",
       "\n",
       "   production_budget  domestic_gross  worldwide_gross   dom_roi  world_roi  \\\n",
       "0        410600000.0     241063875.0     1.045664e+09 -0.412899   1.546673   \n",
       "1        350000000.0      42762350.0     1.497624e+08 -0.877822  -0.572108   \n",
       "2        330600000.0     459005868.0     1.403014e+09  0.388403   3.243841   \n",
       "3        317000000.0     620181382.0     1.316722e+09  0.956408   3.153696   \n",
       "4        306000000.0     936662225.0     2.053311e+09  2.060988   5.710167   \n",
       "\n",
       "  release_month  release_day  release_year  season           imdblink  \\\n",
       "0           May           20          2011  spring  /title/tt1298650/   \n",
       "1           Jun            7          2019  summer  /title/tt6565702/   \n",
       "2           May            1          2015  spring  /title/tt2395427/   \n",
       "3           Dec           15          2017  winter  /title/tt2527336/   \n",
       "4           Dec           18          2015  winter  /title/tt2488496/   \n",
       "\n",
       "    imdbcode MPAA Rating   Runtime                               Genre Origin  \\\n",
       "0  tt1298650       PG-13  2h 16min  ['Action', 'Adventure', 'Fantasy']    USA   \n",
       "1  tt6565702       PG-13  1h 53min   ['Action', 'Adventure', 'Sci-Fi']    USA   \n",
       "2  tt2395427       PG-13  2h 21min   ['Action', 'Adventure', 'Sci-Fi']    USA   \n",
       "3  tt2527336       PG-13  2h 32min  ['Action', 'Adventure', 'Fantasy']    USA   \n",
       "4  tt2488496       PG-13  2h 18min   ['Action', 'Adventure', 'Sci-Fi']    USA   \n",
       "\n",
       "  IMDB Score                                           keywords  \n",
       "0        6.6  ['pirate', 'captain', 'blackbeard', 'soldier',...  \n",
       "1        5.8  ['1990s', 'year 1975', '1970s', 'year 1992', '...  \n",
       "2        7.3  ['superhero', 'marvel cinematic universe', 'ar...  \n",
       "3        7.0  ['wisecrack humor', 'one liner', 'sabotage', '...  \n",
       "4        7.9  ['reboot', 'sanitation employee', 'remake', 'w...  "
      ]
     },
     "execution_count": 2,
     "metadata": {},
     "output_type": "execute_result"
    }
   ],
   "source": [
    "df.head()"
   ]
  },
  {
   "cell_type": "code",
   "execution_count": 3,
   "metadata": {},
   "outputs": [
    {
     "data": {
      "text/plain": [
       "release_month\n",
       "Jul    2.864943\n",
       "Jan    1.326777\n",
       "Mar    1.044154\n",
       "Oct    1.038001\n",
       "Feb    0.906378\n",
       "Aug    0.892214\n",
       "Apr    0.876386\n",
       "Jun    0.855424\n",
       "Sep    0.538719\n",
       "Nov    0.524769\n",
       "Dec    0.524441\n",
       "May    0.517990\n",
       "Name: dom_roi, dtype: float64"
      ]
     },
     "execution_count": 3,
     "metadata": {},
     "output_type": "execute_result"
    }
   ],
   "source": [
    "df_dom_roi = df.groupby(['release_month'])['dom_roi'].mean().sort_values(ascending=False)\n",
    "df_dom_roi"
   ]
  },
  {
   "cell_type": "code",
   "execution_count": 4,
   "metadata": {},
   "outputs": [
    {
     "data": {
      "text/plain": [
       "Text(0.5, 1.0, 'Domestic ROI by Release Month')"
      ]
     },
     "execution_count": 4,
     "metadata": {},
     "output_type": "execute_result"
    },
    {
     "data": {
      "image/png": "[encoded data removed]",
      "text/plain": [
       "<Figure size 432x288 with 1 Axes>"
      ]
     },
     "metadata": {
      "needs_background": "light"
     },
     "output_type": "display_data"
    }
   ],
   "source": [
    "df_dom_roi.plot(kind='bar')\n",
    "\n",
    "plt.xlabel('Release Month')\n",
    "plt.ylabel('Return on Investment')\n",
    "plt.title('Domestic ROI by Release Month')"
   ]
  },
  {
   "cell_type": "code",
   "execution_count": 5,
   "metadata": {},
   "outputs": [
    {
     "data": {
      "text/plain": [
       "Text(0.5, 1.0, 'Worldwide ROI by Release Month')"
      ]
     },
     "execution_count": 5,
     "metadata": {},
     "output_type": "execute_result"
    },
    {
     "data": {
      "image/png": "[encoded data removed]",
      "text/plain": [
       "<Figure size 432x288 with 1 Axes>"
      ]
     },
     "metadata": {
      "needs_background": "light"
     },
     "output_type": "display_data"
    }
   ],
   "source": [
    "df_world_roi = df.groupby(['release_month'])['world_roi'].mean().sort_values(ascending=False)\n",
    "df_world_roi.plot(kind='bar')\n",
    "\n",
    "plt.xlabel('Release Month')\n",
    "plt.ylabel('Return on Investment')\n",
    "plt.title('Worldwide ROI by Release Month')"
   ]
  },
  {
   "cell_type": "code",
   "execution_count": null,
   "metadata": {},
   "outputs": [],
   "source": []
  }
 ],
 "metadata": {
  "kernelspec": {
   "display_name": "Python 3",
   "language": "python",
   "name": "python3"
  },
  "language_info": {
   "codemirror_mode": {
    "name": "ipython",
    "version": 3
   },
   "file_extension": ".py",
   "mimetype": "text/x-python",
   "name": "python",
   "nbconvert_exporter": "python",
   "pygments_lexer": "ipython3",
   "version": "3.7.6"
  }
 },
 "nbformat": 4,
 "nbformat_minor": 4
}
