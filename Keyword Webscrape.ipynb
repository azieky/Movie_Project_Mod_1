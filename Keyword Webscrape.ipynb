{
 "cells": [
  {
   "cell_type": "code",
   "execution_count": 2,
   "metadata": {},
   "outputs": [],
   "source": [
    "import pandas as pd\n",
    "import numpy as np\n",
    "import matplotlib.pyplot as plt\n",
    "import requests\n",
    "from bs4 import BeautifulSoup\n",
    "import random\n",
    "import time \n",
    "import json\n",
    "%matplotlib inline\n",
    "\n",
    "df.imdbcode = pd.read_csv('roiimdb.csv')"
   ]
  },
  {
   "cell_type": "code",
   "execution_count": 3,
   "metadata": {},
   "outputs": [
    {
     "name": "stdout",
     "output_type": "stream",
     "text": [
      "completed but 20 were not imported!\n"
     ]
    }
   ],
   "source": [
    "plot_keywords={}\n",
    "bad_movies_1=[]\n",
    "#Loop through imdbcode column, producing the imdb ID\n",
    "for tt_imdbid in df.imdbcode[:1747]:\n",
    "    keyword_list = []\n",
    "    #Randomize time loop\n",
    "    time.sleep(random.randrange(0,3))\n",
    "    query_1 = tt_imdbid\n",
    "    #input imdb ID into url to produce movie page\n",
    "    url_1='https://www.imdb.com/title/'+query_1+'/keywords?ref_=tt_stry_kw'\n",
    "    page_1 = requests.get(url_1)\n",
    "    if page_1.status_code == requests.codes.ok:\n",
    "        soup = BeautifulSoup(page_1.content, 'html.parser')\n",
    "        try:\n",
    "            #Finding list of movie keywords in HTML\n",
    "            keywords_1 = soup.find_all('div', class_='sodatext')\n",
    "            #Adding first 10 keywords from keyword list \n",
    "            for keyword in keywords_1[:10]:\n",
    "                keyword_list.append((keyword.text[1:-1]))\n",
    "                #creating dictionary with (IMDB id : Keywords)\n",
    "                plot_keywords[tt_imdbid] = keyword_list\n",
    "        #If given error add IMDB ID to bad_movie list\n",
    "        except AttributeError:\n",
    "            bad_movies_1.append(tt_imdbid)\n",
    "            pass\n",
    "    #If request denied add IMDB ID to bad_movie list\n",
    "    else:\n",
    "        bad_movies_1.append(tt_imdbid)\n",
    "        \n",
    "#All IMDB ID's worked correctly\n",
    "if len(plot_keywords)==len(df):\n",
    "    print('completed')\n",
    "else: #Shows how many IMDB ID's didnt work\n",
    "    print('completed but ' + str(len(bad_movies_1)) + ' were not imported!')"
   ]
  },
  {
   "cell_type": "code",
   "execution_count": 4,
   "metadata": {},
   "outputs": [
    {
     "data": {
      "text/plain": [
       "['m0001073',\n",
       " 'm0000187',\n",
       " 'm3119473',\n",
       " 'm0000203',\n",
       " 'm0004266',\n",
       " 'm0502342',\n",
       " 'm0290556',\n",
       " 'm0000568',\n",
       " 'm0396079',\n",
       " 'm0908094',\n",
       " 'm0005522',\n",
       " 'm0000827',\n",
       " 'm2442289',\n",
       " 'm3507289',\n",
       " 'm3117320',\n",
       " 'm0001576',\n",
       " 'm0002121',\n",
       " 'm0330687',\n",
       " 'm0000206',\n",
       " 'm0738042']"
      ]
     },
     "execution_count": 4,
     "metadata": {},
     "output_type": "execute_result"
    }
   ],
   "source": [
    "bad_movies_1"
   ]
  },
  {
   "cell_type": "code",
   "execution_count": 7,
   "metadata": {},
   "outputs": [
    {
     "data": {
      "text/html": [
       "<div>\n",
       "<style scoped>\n",
       "    .dataframe tbody tr th:only-of-type {\n",
       "        vertical-align: middle;\n",
       "    }\n",
       "\n",
       "    .dataframe tbody tr th {\n",
       "        vertical-align: top;\n",
       "    }\n",
       "\n",
       "    .dataframe thead th {\n",
       "        text-align: right;\n",
       "    }\n",
       "</style>\n",
       "<table border=\"1\" class=\"dataframe\">\n",
       "  <thead>\n",
       "    <tr style=\"text-align: right;\">\n",
       "      <th></th>\n",
       "      <th>keywords</th>\n",
       "    </tr>\n",
       "    <tr>\n",
       "      <th>imdbcode</th>\n",
       "      <th></th>\n",
       "    </tr>\n",
       "  </thead>\n",
       "  <tbody>\n",
       "    <tr>\n",
       "      <th>tt1298650</th>\n",
       "      <td>[pirate, captain, blackbeard, soldier, revenge...</td>\n",
       "    </tr>\n",
       "    <tr>\n",
       "      <th>tt6565702</th>\n",
       "      <td>[1990s, year 1975, 1970s, year 1992, directori...</td>\n",
       "    </tr>\n",
       "    <tr>\n",
       "      <th>tt2395427</th>\n",
       "      <td>[superhero, marvel cinematic universe, artific...</td>\n",
       "    </tr>\n",
       "    <tr>\n",
       "      <th>tt2527336</th>\n",
       "      <td>[wisecrack humor, one liner, sabotage, asiatic...</td>\n",
       "    </tr>\n",
       "    <tr>\n",
       "      <th>tt2488496</th>\n",
       "      <td>[reboot, sanitation employee, remake, wisecrac...</td>\n",
       "    </tr>\n",
       "    <tr>\n",
       "      <th>...</th>\n",
       "      <td>...</td>\n",
       "    </tr>\n",
       "    <tr>\n",
       "      <th>tt4266638</th>\n",
       "      <td>[actress shares first name with character, bas...</td>\n",
       "    </tr>\n",
       "    <tr>\n",
       "      <th>tt1489167</th>\n",
       "      <td>[black comedy]</td>\n",
       "    </tr>\n",
       "    <tr>\n",
       "      <th>tt0057840</th>\n",
       "      <td>[world war two, military, naval officer, londo...</td>\n",
       "    </tr>\n",
       "    <tr>\n",
       "      <th>tt1247644</th>\n",
       "      <td>[real life husband and wife play husband and w...</td>\n",
       "    </tr>\n",
       "    <tr>\n",
       "      <th>tt1880418</th>\n",
       "      <td>[written and directed by cast member]</td>\n",
       "    </tr>\n",
       "  </tbody>\n",
       "</table>\n",
       "<p>1700 rows × 1 columns</p>\n",
       "</div>"
      ],
      "text/plain": [
       "                                                    keywords\n",
       "imdbcode                                                    \n",
       "tt1298650  [pirate, captain, blackbeard, soldier, revenge...\n",
       "tt6565702  [1990s, year 1975, 1970s, year 1992, directori...\n",
       "tt2395427  [superhero, marvel cinematic universe, artific...\n",
       "tt2527336  [wisecrack humor, one liner, sabotage, asiatic...\n",
       "tt2488496  [reboot, sanitation employee, remake, wisecrac...\n",
       "...                                                      ...\n",
       "tt4266638  [actress shares first name with character, bas...\n",
       "tt1489167                                     [black comedy]\n",
       "tt0057840  [world war two, military, naval officer, londo...\n",
       "tt1247644  [real life husband and wife play husband and w...\n",
       "tt1880418              [written and directed by cast member]\n",
       "\n",
       "[1700 rows x 1 columns]"
      ]
     },
     "execution_count": 7,
     "metadata": {},
     "output_type": "execute_result"
    }
   ],
   "source": [
    "keyword_df = pd.DataFrame(plot_keywords.items(), columns=['imdbcode', 'keywords']).set_index('imdbcode')\n",
    "keyword_df"
   ]
  },
  {
   "cell_type": "code",
   "execution_count": 9,
   "metadata": {},
   "outputs": [],
   "source": [
    "keyword_df.to_csv('keyword_df.csv')"
   ]
  },
  {
   "cell_type": "code",
   "execution_count": null,
   "metadata": {},
   "outputs": [],
   "source": []
  }
 ],
 "metadata": {
  "kernelspec": {
   "display_name": "Python 3",
   "language": "python",
   "name": "python3"
  },
  "language_info": {
   "codemirror_mode": {
    "name": "ipython",
    "version": 3
   },
   "file_extension": ".py",
   "mimetype": "text/x-python",
   "name": "python",
   "nbconvert_exporter": "python",
   "pygments_lexer": "ipython3",
   "version": "3.7.6"
  }
 },
 "nbformat": 4,
 "nbformat_minor": 4
}
