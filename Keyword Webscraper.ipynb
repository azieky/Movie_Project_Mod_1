{
 "cells": [
  {
   "cell_type": "code",
   "execution_count": 3,
   "metadata": {},
   "outputs": [
    {
     "name": "stdout",
     "output_type": "stream",
     "text": [
      "<class 'pandas.core.frame.DataFrame'>\n",
      "RangeIndex: 1747 entries, 0 to 1746\n",
      "Data columns (total 16 columns):\n",
      " #   Column             Non-Null Count  Dtype  \n",
      "---  ------             --------------  -----  \n",
      " 0   Unnamed: 0         1747 non-null   int64  \n",
      " 1   level_0            1747 non-null   int64  \n",
      " 2   index              1747 non-null   int64  \n",
      " 3   id                 1747 non-null   int64  \n",
      " 4   release_date       1747 non-null   object \n",
      " 5   movie              1747 non-null   object \n",
      " 6   production_budget  1747 non-null   float64\n",
      " 7   domestic_gross     1747 non-null   float64\n",
      " 8   worldwide_gross    1747 non-null   float64\n",
      " 9   dom_roi            1747 non-null   float64\n",
      " 10  world_roi          1747 non-null   float64\n",
      " 11  release_month      1747 non-null   object \n",
      " 12  release_day        1747 non-null   int64  \n",
      " 13  release_year       1747 non-null   int64  \n",
      " 14  season             1747 non-null   object \n",
      " 15  imdblink           1747 non-null   object \n",
      "dtypes: float64(5), int64(6), object(5)\n",
      "memory usage: 218.5+ KB\n"
     ]
    }
   ],
   "source": [
    "import pandas as pd\n",
    "import numpy as np\n",
    "import matplotlib.pyplot as plt\n",
    "import requests\n",
    "from bs4 import BeautifulSoup\n",
    "import random\n",
    "import time \n",
    "import json\n",
    "%matplotlib inline\n",
    "\n",
    "df = pd.read_csv('roiimdb.csv') \n",
    "df_\n",
    "df.info()"
   ]
  },
  {
   "cell_type": "code",
   "execution_count": 2,
   "metadata": {},
   "outputs": [
    {
     "data": {
      "text/html": [
       "<div>\n",
       "<style scoped>\n",
       "    .dataframe tbody tr th:only-of-type {\n",
       "        vertical-align: middle;\n",
       "    }\n",
       "\n",
       "    .dataframe tbody tr th {\n",
       "        vertical-align: top;\n",
       "    }\n",
       "\n",
       "    .dataframe thead th {\n",
       "        text-align: right;\n",
       "    }\n",
       "</style>\n",
       "<table border=\"1\" class=\"dataframe\">\n",
       "  <thead>\n",
       "    <tr style=\"text-align: right;\">\n",
       "      <th></th>\n",
       "      <th>Unnamed: 0</th>\n",
       "      <th>level_0</th>\n",
       "      <th>index</th>\n",
       "      <th>id</th>\n",
       "      <th>release_date</th>\n",
       "      <th>movie</th>\n",
       "      <th>production_budget</th>\n",
       "      <th>domestic_gross</th>\n",
       "      <th>worldwide_gross</th>\n",
       "      <th>dom_roi</th>\n",
       "      <th>world_roi</th>\n",
       "      <th>release_month</th>\n",
       "      <th>release_day</th>\n",
       "      <th>release_year</th>\n",
       "      <th>season</th>\n",
       "      <th>imdblink</th>\n",
       "      <th>imdbcode</th>\n",
       "    </tr>\n",
       "  </thead>\n",
       "  <tbody>\n",
       "    <tr>\n",
       "      <th>0</th>\n",
       "      <td>0</td>\n",
       "      <td>0</td>\n",
       "      <td>1</td>\n",
       "      <td>2</td>\n",
       "      <td>May 20, 2011</td>\n",
       "      <td>Pirates of the Caribbean: On Stranger Tides</td>\n",
       "      <td>410600000.0</td>\n",
       "      <td>241063875.0</td>\n",
       "      <td>1.045664e+09</td>\n",
       "      <td>-0.412899</td>\n",
       "      <td>1.546673</td>\n",
       "      <td>May</td>\n",
       "      <td>20</td>\n",
       "      <td>2011</td>\n",
       "      <td>spring</td>\n",
       "      <td>/title/tt1298650/</td>\n",
       "      <td>tt1298650</td>\n",
       "    </tr>\n",
       "    <tr>\n",
       "      <th>1</th>\n",
       "      <td>1</td>\n",
       "      <td>1</td>\n",
       "      <td>2</td>\n",
       "      <td>3</td>\n",
       "      <td>Jun 7, 2019</td>\n",
       "      <td>Dark Phoenix</td>\n",
       "      <td>350000000.0</td>\n",
       "      <td>42762350.0</td>\n",
       "      <td>1.497624e+08</td>\n",
       "      <td>-0.877822</td>\n",
       "      <td>-0.572108</td>\n",
       "      <td>Jun</td>\n",
       "      <td>7</td>\n",
       "      <td>2019</td>\n",
       "      <td>summer</td>\n",
       "      <td>/title/tt6565702/</td>\n",
       "      <td>tt6565702</td>\n",
       "    </tr>\n",
       "    <tr>\n",
       "      <th>2</th>\n",
       "      <td>2</td>\n",
       "      <td>2</td>\n",
       "      <td>3</td>\n",
       "      <td>4</td>\n",
       "      <td>May 1, 2015</td>\n",
       "      <td>Avengers: Age of Ultron</td>\n",
       "      <td>330600000.0</td>\n",
       "      <td>459005868.0</td>\n",
       "      <td>1.403014e+09</td>\n",
       "      <td>0.388403</td>\n",
       "      <td>3.243841</td>\n",
       "      <td>May</td>\n",
       "      <td>1</td>\n",
       "      <td>2015</td>\n",
       "      <td>spring</td>\n",
       "      <td>/title/tt2395427/</td>\n",
       "      <td>tt2395427</td>\n",
       "    </tr>\n",
       "    <tr>\n",
       "      <th>3</th>\n",
       "      <td>3</td>\n",
       "      <td>3</td>\n",
       "      <td>4</td>\n",
       "      <td>5</td>\n",
       "      <td>Dec 15, 2017</td>\n",
       "      <td>Star Wars Ep. VIII: The Last Jedi</td>\n",
       "      <td>317000000.0</td>\n",
       "      <td>620181382.0</td>\n",
       "      <td>1.316722e+09</td>\n",
       "      <td>0.956408</td>\n",
       "      <td>3.153696</td>\n",
       "      <td>Dec</td>\n",
       "      <td>15</td>\n",
       "      <td>2017</td>\n",
       "      <td>winter</td>\n",
       "      <td>/title/tt2527336/</td>\n",
       "      <td>tt2527336</td>\n",
       "    </tr>\n",
       "    <tr>\n",
       "      <th>4</th>\n",
       "      <td>4</td>\n",
       "      <td>4</td>\n",
       "      <td>5</td>\n",
       "      <td>6</td>\n",
       "      <td>Dec 18, 2015</td>\n",
       "      <td>Star Wars Ep. VII: The Force Awakens</td>\n",
       "      <td>306000000.0</td>\n",
       "      <td>936662225.0</td>\n",
       "      <td>2.053311e+09</td>\n",
       "      <td>2.060988</td>\n",
       "      <td>5.710167</td>\n",
       "      <td>Dec</td>\n",
       "      <td>18</td>\n",
       "      <td>2015</td>\n",
       "      <td>winter</td>\n",
       "      <td>/title/tt2488496/</td>\n",
       "      <td>tt2488496</td>\n",
       "    </tr>\n",
       "  </tbody>\n",
       "</table>\n",
       "</div>"
      ],
      "text/plain": [
       "   Unnamed: 0  level_0  index  id  release_date  \\\n",
       "0           0        0      1   2  May 20, 2011   \n",
       "1           1        1      2   3   Jun 7, 2019   \n",
       "2           2        2      3   4   May 1, 2015   \n",
       "3           3        3      4   5  Dec 15, 2017   \n",
       "4           4        4      5   6  Dec 18, 2015   \n",
       "\n",
       "                                         movie  production_budget  \\\n",
       "0  Pirates of the Caribbean: On Stranger Tides        410600000.0   \n",
       "1                                 Dark Phoenix        350000000.0   \n",
       "2                      Avengers: Age of Ultron        330600000.0   \n",
       "3            Star Wars Ep. VIII: The Last Jedi        317000000.0   \n",
       "4         Star Wars Ep. VII: The Force Awakens        306000000.0   \n",
       "\n",
       "   domestic_gross  worldwide_gross   dom_roi  world_roi release_month  \\\n",
       "0     241063875.0     1.045664e+09 -0.412899   1.546673           May   \n",
       "1      42762350.0     1.497624e+08 -0.877822  -0.572108           Jun   \n",
       "2     459005868.0     1.403014e+09  0.388403   3.243841           May   \n",
       "3     620181382.0     1.316722e+09  0.956408   3.153696           Dec   \n",
       "4     936662225.0     2.053311e+09  2.060988   5.710167           Dec   \n",
       "\n",
       "   release_day  release_year  season           imdblink   imdbcode  \n",
       "0           20          2011  spring  /title/tt1298650/  tt1298650  \n",
       "1            7          2019  summer  /title/tt6565702/  tt6565702  \n",
       "2            1          2015  spring  /title/tt2395427/  tt2395427  \n",
       "3           15          2017  winter  /title/tt2527336/  tt2527336  \n",
       "4           18          2015  winter  /title/tt2488496/  tt2488496  "
      ]
     },
     "execution_count": 2,
     "metadata": {},
     "output_type": "execute_result"
    }
   ],
   "source": [
    "df['imdbcode'] = df.imdblink.apply(lambda x : x[7:].rstrip('/'))\n",
    "df.head()"
   ]
  },
  {
   "cell_type": "code",
   "execution_count": 3,
   "metadata": {},
   "outputs": [
    {
     "name": "stdout",
     "output_type": "stream",
     "text": [
      "completed but 20 were not imported!\n"
     ]
    }
   ],
   "source": [
    "plot_keywords={}\n",
    "bad_movies_1=[]\n",
    "for tt_imdbid in df.imdbcode[:1747]:\n",
    "    keyword_list = []\n",
    "    time.sleep(random.randrange(0,3))\n",
    "    query_1 = tt_imdbid\n",
    "    url_1='https://www.imdb.com/title/'+query_1+'/keywords?ref_=tt_stry_kw'\n",
    "    page_1 = requests.get(url_1)\n",
    "    if page_1.status_code == requests.codes.ok:\n",
    "        soup = BeautifulSoup(page_1.content, 'html.parser')\n",
    "        try:\n",
    "            keywords_1 = soup.find_all('div', class_='sodatext')\n",
    "            for keyword in keywords_1[:10]:\n",
    "                keyword_list.append((keyword.text[1:-1]))\n",
    "                plot_keywords[tt_imdbid] = keyword_list\n",
    "        except AttributeError:\n",
    "            bad_movies_1.append(tt_imdbid)\n",
    "            pass\n",
    "    else:\n",
    "        bad_movies_1.append(tt_imdbid)\n",
    "        \n",
    "if len(plot_keywords)==len(df):\n",
    "    print('completed')\n",
    "else:\n",
    "    print('completed but ' + str(len(bad_movies_1)) + ' were not imported!')"
   ]
  },
  {
   "cell_type": "code",
   "execution_count": 4,
   "metadata": {},
   "outputs": [
    {
     "data": {
      "text/plain": [
       "['m0001073',\n",
       " 'm0000187',\n",
       " 'm3119473',\n",
       " 'm0000203',\n",
       " 'm0004266',\n",
       " 'm0502342',\n",
       " 'm0290556',\n",
       " 'm0000568',\n",
       " 'm0396079',\n",
       " 'm0908094',\n",
       " 'm0005522',\n",
       " 'm0000827',\n",
       " 'm2442289',\n",
       " 'm3507289',\n",
       " 'm3117320',\n",
       " 'm0001576',\n",
       " 'm0002121',\n",
       " 'm0330687',\n",
       " 'm0000206',\n",
       " 'm0738042']"
      ]
     },
     "execution_count": 4,
     "metadata": {},
     "output_type": "execute_result"
    }
   ],
   "source": [
    "bad_movies_1"
   ]
  },
  {
   "cell_type": "code",
   "execution_count": 2,
   "metadata": {},
   "outputs": [
    {
     "ename": "NameError",
     "evalue": "name 'pd' is not defined",
     "output_type": "error",
     "traceback": [
      "\u001b[0;31m---------------------------------------------------------------------------\u001b[0m",
      "\u001b[0;31mNameError\u001b[0m                                 Traceback (most recent call last)",
      "\u001b[0;32m<ipython-input-2-87b140b68b1d>\u001b[0m in \u001b[0;36m<module>\u001b[0;34m\u001b[0m\n\u001b[0;32m----> 1\u001b[0;31m \u001b[0mkeyword_df\u001b[0m \u001b[0;34m=\u001b[0m \u001b[0mpd\u001b[0m\u001b[0;34m.\u001b[0m\u001b[0mDataFrame\u001b[0m\u001b[0;34m(\u001b[0m\u001b[0mplot_keywords\u001b[0m\u001b[0;34m.\u001b[0m\u001b[0mitems\u001b[0m\u001b[0;34m(\u001b[0m\u001b[0;34m)\u001b[0m\u001b[0;34m,\u001b[0m \u001b[0mcolumns\u001b[0m\u001b[0;34m=\u001b[0m\u001b[0;34m[\u001b[0m\u001b[0;34m'imdbcode'\u001b[0m\u001b[0;34m,\u001b[0m \u001b[0;34m'keywords'\u001b[0m\u001b[0;34m]\u001b[0m\u001b[0;34m)\u001b[0m\u001b[0;34m.\u001b[0m\u001b[0mset_index\u001b[0m\u001b[0;34m(\u001b[0m\u001b[0;34m'imdbcode'\u001b[0m\u001b[0;34m)\u001b[0m\u001b[0;34m\u001b[0m\u001b[0;34m\u001b[0m\u001b[0m\n\u001b[0m\u001b[1;32m      2\u001b[0m \u001b[0mkeyword_df\u001b[0m\u001b[0;34m\u001b[0m\u001b[0;34m\u001b[0m\u001b[0m\n",
      "\u001b[0;31mNameError\u001b[0m: name 'pd' is not defined"
     ]
    }
   ],
   "source": [
    "keyword_df = pd.DataFrame(plot_keywords.items(), columns=['imdbcode', 'keywords']).set_index('imdbcode')\n",
    "keyword_df"
   ]
  },
  {
   "cell_type": "code",
   "execution_count": 9,
   "metadata": {},
   "outputs": [],
   "source": [
    "keyword_df.to_csv('keyword_df.csv')"
   ]
  },
  {
   "cell_type": "code",
   "execution_count": 1,
   "metadata": {},
   "outputs": [
    {
     "ename": "NameError",
     "evalue": "name 'keyword_df' is not defined",
     "output_type": "error",
     "traceback": [
      "\u001b[0;31m---------------------------------------------------------------------------\u001b[0m",
      "\u001b[0;31mNameError\u001b[0m                                 Traceback (most recent call last)",
      "\u001b[0;32m<ipython-input-1-7d98ef058112>\u001b[0m in \u001b[0;36m<module>\u001b[0;34m\u001b[0m\n\u001b[0;32m----> 1\u001b[0;31m \u001b[0mkeyword_df\u001b[0m\u001b[0;34m.\u001b[0m\u001b[0munique\u001b[0m\u001b[0;34m(\u001b[0m\u001b[0;34m)\u001b[0m\u001b[0;34m\u001b[0m\u001b[0;34m\u001b[0m\u001b[0m\n\u001b[0m",
      "\u001b[0;31mNameError\u001b[0m: name 'keyword_df' is not defined"
     ]
    }
   ],
   "source": [
    "keyword_df.unique()"
   ]
  },
  {
   "cell_type": "code",
   "execution_count": null,
   "metadata": {},
   "outputs": [],
   "source": []
  }
 ],
 "metadata": {
  "kernelspec": {
   "display_name": "Python 3",
   "language": "python",
   "name": "python3"
  },
  "language_info": {
   "codemirror_mode": {
    "name": "ipython",
    "version": 3
   },
   "file_extension": ".py",
   "mimetype": "text/x-python",
   "name": "python",
   "nbconvert_exporter": "python",
   "pygments_lexer": "ipython3",
   "version": "3.7.6"
  }
 },
 "nbformat": 4,
 "nbformat_minor": 4
}
